{
  "nbformat": 4,
  "nbformat_minor": 0,
  "metadata": {
    "colab": {
      "name": "naiyes bayersAlgo",
      "provenance": [],
      "authorship_tag": "ABX9TyO7LKlX3Eu7OPYB0u9s+uah",
      "include_colab_link": true
    },
    "kernelspec": {
      "name": "python3",
      "display_name": "Python 3"
    },
    "language_info": {
      "name": "python"
    }
  },
  "cells": [
    {
      "cell_type": "markdown",
      "metadata": {
        "id": "view-in-github",
        "colab_type": "text"
      },
      "source": [
        "<a href=\"https://colab.research.google.com/github/mohdsaad379/MachineLearning/blob/main/naiyes_bayersAlgo.ipynb\" target=\"_parent\"><img src=\"https://colab.research.google.com/assets/colab-badge.svg\" alt=\"Open In Colab\"/></a>"
      ]
    },
    {
      "cell_type": "code",
      "metadata": {
        "id": "wi_dggSVKGta"
      },
      "source": [
        "import csv\n",
        "import numpy as np\n",
        "import math\n",
        "import random\n",
        "from sklearn import datasets\n",
        "import pandas as pd"
      ],
      "execution_count": 7,
      "outputs": []
    },
    {
      "cell_type": "code",
      "metadata": {
        "colab": {
          "base_uri": "https://localhost:8080/"
        },
        "id": "j6tc3r2SKjyH",
        "outputId": "795c0be3-3ffc-4554-8009-9c4793aa466f"
      },
      "source": [
        "data=datasets.load_diabetes()\n",
        "input=pd.DataFrame(data.data)\n",
        "output=pd.DataFrame(data.target)\n",
        "data_dataFrame=pd.concat([input,output],axis=1)\n",
        "data_dataFrame=np.array(data_dataFrame)\n",
        "len(data_dataFrame)"
      ],
      "execution_count": 16,
      "outputs": [
        {
          "output_type": "execute_result",
          "data": {
            "text/plain": [
              "442"
            ]
          },
          "metadata": {
            "tags": []
          },
          "execution_count": 16
        }
      ]
    },
    {
      "cell_type": "code",
      "metadata": {
        "id": "lXaiMmiEKn2m"
      },
      "source": [
        "trainSize=int(len(data_dataFrame)*0.8)\n",
        "trainSet=[]\n",
        "testSet=[]\n",
        "copy=data_dataFrame\n",
        "for i in range(len(data_dataFrame)):\n",
        "  if random.random()<0.8:\n",
        "    trainSet.append(data_dataFrame[i])\n",
        "  else:\n",
        "    testSet.append(data_dataFrame[i])\n"
      ],
      "execution_count": 52,
      "outputs": []
    },
    {
      "cell_type": "code",
      "metadata": {
        "colab": {
          "base_uri": "https://localhost:8080/"
        },
        "id": "1xiTkpJ3LoNO",
        "outputId": "5fd2dd0b-f88d-46e7-bb89-b6fb91342ee9"
      },
      "source": [
        "print(len(trainSet))"
      ],
      "execution_count": 53,
      "outputs": [
        {
          "output_type": "stream",
          "text": [
            "352\n"
          ],
          "name": "stdout"
        }
      ]
    },
    {
      "cell_type": "code",
      "metadata": {
        "id": "r0My_AarPWnq"
      },
      "source": [
        "def separateByClass(data_dataFrame):\n",
        "  separated={}\n",
        "  for i in range(len(data_dataFrame)):\n",
        "    vector=data_dataFrame[i]\n",
        "    if vector[-1] not in separated:\n",
        "      separated[vector[-1]]=[]\n",
        "    separated[vector[-1]].append(vector)\n",
        "  return separated"
      ],
      "execution_count": 23,
      "outputs": []
    },
    {
      "cell_type": "code",
      "metadata": {
        "id": "KA7MY1y_QCo8"
      },
      "source": [
        "def mean(numbers):\n",
        "  return sum(numbers)/float(len(numbers))"
      ],
      "execution_count": 25,
      "outputs": []
    },
    {
      "cell_type": "code",
      "metadata": {
        "id": "QxdG6xggQWYy"
      },
      "source": [
        "def stddev(numbers):\n",
        "  avg=mean(numbers)\n",
        "  variance=sum([pow(x-avg,2) for x in numbers])/float(len(numbers)-1)\n",
        "  return math.sqrt(variance)"
      ],
      "execution_count": 27,
      "outputs": []
    },
    {
      "cell_type": "code",
      "metadata": {
        "id": "S1etBbElRZYN"
      },
      "source": [
        "def summarize(dataset):\n",
        "  summaries=[(mean(attribute),stddev(attribute)) for attribute in zip(*dataset)]\n",
        "  del summaries[-1]\n",
        "  return summaries"
      ],
      "execution_count": 33,
      "outputs": []
    },
    {
      "cell_type": "code",
      "metadata": {
        "id": "VNTsgxY0QzLe"
      },
      "source": [
        "def summarizeByClass(dataset):\n",
        "  separated=separateByClass(dataset)\n",
        "  # print(separated)\n",
        "  summaries={}\n",
        "  for classValues,instances in separated.items():\n",
        "    summaries[classValues]=summarize(instances)\n",
        "  return summaries"
      ],
      "execution_count": 60,
      "outputs": []
    },
    {
      "cell_type": "code",
      "metadata": {
        "id": "zTWVn1EdRR6J"
      },
      "source": [
        "def calculateProbability(x,mean,stddev):\n",
        "  exponent=math.exp(-(math.pow(x-mean,2)/(1+2*math.pow(stddev,2))))\n",
        "  return (1/(1+math.sqrt(2*math.pi)*stddev))*exponent"
      ],
      "execution_count": 73,
      "outputs": []
    },
    {
      "cell_type": "code",
      "metadata": {
        "id": "Oryy_ldFSK-n"
      },
      "source": [
        "def calculateClassProbabilities(summaries,inputVector):\n",
        "  probabilities={}\n",
        "  for classValues, classSummaries in summaries.items():\n",
        "    probabilities[classValues]=1\n",
        "    for i in range(len(classSummaries)):\n",
        "      mean,stddev=classSummaries[i]\n",
        "      x = inputVector[i]\n",
        "      probabilities[classValues]*= calculateProbability(x,mean,stddev)\n",
        "  return probabilities"
      ],
      "execution_count": 41,
      "outputs": []
    },
    {
      "cell_type": "code",
      "metadata": {
        "id": "eBn4mxaRTGZy"
      },
      "source": [
        "def predict(summaries, inputVector):\n",
        "  probabilities=calculateClassProbabilities(summaries,inputVector)\n",
        "  bestLabel,bestProb=None, -1\n",
        "  for classValues, probability in probabilities.items():\n",
        "    if bestLabel is None or probability> bestProb:\n",
        "      bestProb=probability\n",
        "      bestLabel=classValues\n",
        "  return bestLabel"
      ],
      "execution_count": 43,
      "outputs": []
    },
    {
      "cell_type": "code",
      "metadata": {
        "id": "G0Feu7n7VgHU"
      },
      "source": [
        "def getPredictions(summaries,testSet):\n",
        "  predictions=[]\n",
        "  for i in (range(len(testSet))):\n",
        "    result=predict(summaries,testSet[i])\n",
        "    predictions.append(result)\n",
        "  return predictions"
      ],
      "execution_count": 63,
      "outputs": []
    },
    {
      "cell_type": "code",
      "metadata": {
        "id": "4f-9aGZWVzFN"
      },
      "source": [
        "def getAccuracy(testSet,predictions):\n",
        "  correct=0\n",
        "  for x in range(len(testSet)):\n",
        "    if testSet[i][-1]==predictions[x]:\n",
        "      correct+=1\n",
        "  return (correct/float(len(testSet)))*100"
      ],
      "execution_count": 47,
      "outputs": []
    },
    {
      "cell_type": "code",
      "metadata": {
        "id": "31cxWszTWMT5"
      },
      "source": [
        "summaries=summarizeByClass(trainSet)\n",
        "predictions=getPredictions(summaries,testSet)\n",
        "accuracy=getAccuracy(testSet,predictions)\n",
        "print(\"accuracy {0}%\".format(accuracy))"
      ],
      "execution_count": null,
      "outputs": []
    },
    {
      "cell_type": "code",
      "metadata": {
        "id": "S8OW_T-NW7ZS"
      },
      "source": [
        ""
      ],
      "execution_count": null,
      "outputs": []
    },
    {
      "cell_type": "markdown",
      "metadata": {
        "id": "OuPdZJK1bkkF"
      },
      "source": [
        "**SKLEARN**\n"
      ]
    },
    {
      "cell_type": "code",
      "metadata": {
        "id": "UHzM00HvbnjK"
      },
      "source": [
        "from sklearn import metrics\n",
        "from sklearn.naive_bayes import GaussianNB"
      ],
      "execution_count": 76,
      "outputs": []
    },
    {
      "cell_type": "code",
      "metadata": {
        "id": "Enw52TX8bzXf"
      },
      "source": [
        "dataset=datasets.load_iris()\n"
      ],
      "execution_count": 77,
      "outputs": []
    },
    {
      "cell_type": "code",
      "metadata": {
        "colab": {
          "base_uri": "https://localhost:8080/"
        },
        "id": "e6cF3ceWb4WD",
        "outputId": "6d1bb657-ea47-438f-f5e4-b60fddb4d453"
      },
      "source": [
        "model=GaussianNB()\n",
        "model.fit(dataset.data,dataset.target)"
      ],
      "execution_count": 78,
      "outputs": [
        {
          "output_type": "execute_result",
          "data": {
            "text/plain": [
              "GaussianNB(priors=None, var_smoothing=1e-09)"
            ]
          },
          "metadata": {
            "tags": []
          },
          "execution_count": 78
        }
      ]
    },
    {
      "cell_type": "code",
      "metadata": {
        "colab": {
          "base_uri": "https://localhost:8080/"
        },
        "id": "jBDMYUaIb-UF",
        "outputId": "b5d12add-5878-4ff1-f6d5-cb72742a0f92"
      },
      "source": [
        "model.predict([[0.2,1,2,1]])"
      ],
      "execution_count": 80,
      "outputs": [
        {
          "output_type": "execute_result",
          "data": {
            "text/plain": [
              "array([1])"
            ]
          },
          "metadata": {
            "tags": []
          },
          "execution_count": 80
        }
      ]
    },
    {
      "cell_type": "code",
      "metadata": {
        "id": "hO_oSEA-cXVF"
      },
      "source": [
        "expected=dataset.target\n",
        "predicted=model.predict(dataset.data)"
      ],
      "execution_count": 84,
      "outputs": []
    },
    {
      "cell_type": "code",
      "metadata": {
        "colab": {
          "base_uri": "https://localhost:8080/"
        },
        "id": "J0w_qYyhcFx6",
        "outputId": "591d4402-e115-4c0c-a7ee-e5317d1997c2"
      },
      "source": [
        "print(metrics.classification_report(expected,predicted))\n",
        "print(metrics.confusion_matrix(expected,predicted))\n",
        "print(metrics.accuracy_score(expected,predicted))"
      ],
      "execution_count": 87,
      "outputs": [
        {
          "output_type": "stream",
          "text": [
            "              precision    recall  f1-score   support\n",
            "\n",
            "           0       1.00      1.00      1.00        50\n",
            "           1       0.94      0.94      0.94        50\n",
            "           2       0.94      0.94      0.94        50\n",
            "\n",
            "    accuracy                           0.96       150\n",
            "   macro avg       0.96      0.96      0.96       150\n",
            "weighted avg       0.96      0.96      0.96       150\n",
            "\n",
            "[[50  0  0]\n",
            " [ 0 47  3]\n",
            " [ 0  3 47]]\n",
            "0.96\n"
          ],
          "name": "stdout"
        }
      ]
    },
    {
      "cell_type": "code",
      "metadata": {
        "id": "2u7nBeO_c0HU"
      },
      "source": [
        ""
      ],
      "execution_count": null,
      "outputs": []
    }
  ]
}