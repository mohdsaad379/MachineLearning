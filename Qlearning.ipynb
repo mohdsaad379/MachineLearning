{
  "nbformat": 4,
  "nbformat_minor": 0,
  "metadata": {
    "colab": {
      "name": "Qlearning",
      "provenance": [],
      "authorship_tag": "ABX9TyOYFQikQZzaI/KR9QnM+jJX",
      "include_colab_link": true
    },
    "kernelspec": {
      "name": "python3",
      "display_name": "Python 3"
    },
    "language_info": {
      "name": "python"
    }
  },
  "cells": [
    {
      "cell_type": "markdown",
      "metadata": {
        "id": "view-in-github",
        "colab_type": "text"
      },
      "source": [
        "<a href=\"https://colab.research.google.com/github/mohdsaad379/MachineLearning/blob/main/Qlearning.ipynb\" target=\"_parent\"><img src=\"https://colab.research.google.com/assets/colab-badge.svg\" alt=\"Open In Colab\"/></a>"
      ]
    },
    {
      "cell_type": "code",
      "metadata": {
        "id": "Q8FSm6s30D38"
      },
      "source": [
        "import numpy as np"
      ],
      "execution_count": 1,
      "outputs": []
    },
    {
      "cell_type": "code",
      "metadata": {
        "id": "pCbP0vjm0Mav"
      },
      "source": [
        "gamma= 0.75\n",
        " #discount_factor\n",
        "alpha=0.9\n",
        "   #learning_rate"
      ],
      "execution_count": 4,
      "outputs": []
    },
    {
      "cell_type": "code",
      "metadata": {
        "id": "jnl0DgQj0YtJ"
      },
      "source": [
        "location_to_state={\n",
        "    'L1': 0,\n",
        "    'L2': 1,\n",
        "    'L3': 2,\n",
        "    'L4': 3,\n",
        "    'L5': 4,\n",
        "    'L6': 5,\n",
        "    'L7': 6,\n",
        "    'L8': 7,\n",
        "    'L9': 8,\n",
        "\n",
        "\n",
        "}"
      ],
      "execution_count": 7,
      "outputs": []
    },
    {
      "cell_type": "code",
      "metadata": {
        "id": "BI-oyPqx0nak"
      },
      "source": [
        "actions =[0,1,2,3,4,5,6,7,8,9]"
      ],
      "execution_count": 8,
      "outputs": []
    },
    {
      "cell_type": "code",
      "metadata": {
        "id": "Wt0pKQxE1C9F"
      },
      "source": [
        "rewards=np.array([\n",
        "                  [0,1,0,0,0,0,0,0,0],\n",
        "                  [1,0,1,0,0,0,0,0,0],\n",
        "                  [0,1,0,0,0,1,0,0,0],\n",
        "                  [0,0,0,0,0,0,1,0,0],\n",
        "                  [0,1,0,0,0,0,0,1,0],\n",
        "                  [0,0,1,0,0,0,0,0,0],\n",
        "                  [0,0,0,1,0,0,0,1,0],\n",
        "                  [0,0,0,0,1,0,1,0,1],\n",
        "                  [0,0,0,0,0,0,0,1,0],\n",
        "])"
      ],
      "execution_count": 9,
      "outputs": []
    },
    {
      "cell_type": "code",
      "metadata": {
        "colab": {
          "base_uri": "https://localhost:8080/"
        },
        "id": "6pVZT1ZB1_r-",
        "outputId": "f34b0d43-058f-4c2f-c702-a07050b75c76"
      },
      "source": [
        "state_to_location = dict((state,location) for location,state in location_to_state.items())\n",
        "print(state_to_location)"
      ],
      "execution_count": 10,
      "outputs": [
        {
          "output_type": "stream",
          "text": [
            "{0: 'L1', 1: 'L2', 2: 'L3', 3: 'L4', 4: 'L5', 5: 'L6', 6: 'L7', 7: 'L8', 8: 'L9'}\n"
          ],
          "name": "stdout"
        }
      ]
    },
    {
      "cell_type": "code",
      "metadata": {
        "id": "WSczMEz72YbM"
      },
      "source": [
        "def get_optimal_route(start_location,end_location):\n",
        "    # Copy the rewards matrix to new Matrix\n",
        "    rewards_new = np.copy(rewards)\n",
        "    \n",
        "    # Get the ending state corresponding to the ending location as given\n",
        "    ending_state = location_to_state[end_location]\n",
        "    \n",
        "    # With the above information automatically set the priority of the given ending \n",
        "    # state to the highest one\n",
        "    rewards_new[ending_state,ending_state] = 999\n",
        "\n",
        "    # -----------Q-Learning algorithm-----------\n",
        "   \n",
        "    # Initializing Q-Values\n",
        "    Q = np.array(np.zeros([9,9]))\n",
        "\n",
        "    # Q-Learning process\n",
        "    for i in range(1000):\n",
        "        # Pick up a state randomly\n",
        "        current_state = np.random.randint(0,9) # Python excludes the upper bound\n",
        "        # For traversing through the neighbor locations in the maze\n",
        "        playable_actions = []\n",
        "        # Iterate through the new rewards matrix and get the actions > 0\n",
        "        for j in range(9):\n",
        "            if rewards_new[current_state,j] > 0:\n",
        "                playable_actions.append(j)\n",
        "        # Pick an action randomly from the list of playable actions  \n",
        "        # leading us to the next state\n",
        "        next_state = np.random.choice(playable_actions)\n",
        "        # Compute the temporal difference\n",
        "        # The action here exactly refers to going to the next state\n",
        "        TD = rewards_new[current_state,next_state] + gamma * Q[next_state,np.argmax(Q[next_state,])] - Q[current_state,next_state]\n",
        "        # Update the Q-Value using the Bellman equation\n",
        "        Q[current_state,next_state] += alpha * TD\n",
        "    # Initialize the optimal route with the starting location\n",
        "    route = [start_location]\n",
        "    next_location = start_location\n",
        "    # We don't know about the exact number of iterations needed to reach to the final \n",
        "# location hence while loop will be a good choice for iteratiing\n",
        "    while(next_location != end_location):\n",
        "        # Fetch the starting state\n",
        "        starting_state = location_to_state[start_location]\n",
        "        # Fetch the highest Q-value pertaining to starting state\n",
        "        next_state = np.argmax(Q[starting_state,])\n",
        "        # We got the index of the next state. But we need the corresponding letter. \n",
        "        next_location = state_to_location[next_state]\n",
        "        route.append(next_location)\n",
        "        # Update the starting location for the next iteration\n",
        "        start_location = next_location\n",
        "    \n",
        "    return route"
      ],
      "execution_count": 13,
      "outputs": []
    },
    {
      "cell_type": "code",
      "metadata": {
        "colab": {
          "base_uri": "https://localhost:8080/"
        },
        "id": "IXpg1vx83oF3",
        "outputId": "ab7268c1-c8ea-4b7f-d0dc-862fd4b9241e"
      },
      "source": [
        "print(get_optimal_route('L9','L1'))"
      ],
      "execution_count": 14,
      "outputs": [
        {
          "output_type": "stream",
          "text": [
            "['L9', 'L8', 'L5', 'L2', 'L1']\n"
          ],
          "name": "stdout"
        }
      ]
    },
    {
      "cell_type": "code",
      "metadata": {
        "id": "E4TuzAEl3ulJ"
      },
      "source": [
        ""
      ],
      "execution_count": null,
      "outputs": []
    }
  ]
}